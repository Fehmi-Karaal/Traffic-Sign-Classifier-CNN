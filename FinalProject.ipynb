{
  "nbformat": 4,
  "nbformat_minor": 0,
  "metadata": {
    "colab": {
      "provenance": [],
      "gpuType": "T4",
      "authorship_tag": "ABX9TyMXSWwgI+Dir4J0WOJrGf45",
      "include_colab_link": true
    },
    "kernelspec": {
      "name": "python3",
      "display_name": "Python 3"
    },
    "language_info": {
      "name": "python"
    },
    "accelerator": "GPU"
  },
  "cells": [
    {
      "cell_type": "markdown",
      "metadata": {
        "id": "view-in-github",
        "colab_type": "text"
      },
      "source": [
        "<a href=\"https://colab.research.google.com/github/Fehmi-Karaal/Traffic-Sign-Classifier-CNN/blob/main/FinalProject.ipynb\" target=\"_parent\"><img src=\"https://colab.research.google.com/assets/colab-badge.svg\" alt=\"Open In Colab\"/></a>"
      ]
    },
    {
      "source": [
        "!pip install tensorflow"
      ],
      "cell_type": "code",
      "metadata": {
        "id": "lefmrHeh0mNN"
      },
      "execution_count": null,
      "outputs": []
    },
    {
      "cell_type": "code",
      "source": [
        "from tensorflow.keras.models import Sequential\n",
        "from tensorflow.keras.layers import Conv2D, MaxPooling2D, Flatten, Dense, Dropout\n",
        "from tensorflow.keras.preprocessing.image import ImageDataGenerator\n",
        "# Mount Google Drive\n",
        "from google.colab import drive\n",
        "drive.mount('/content/drive')\n",
        "\n",
        "# Define the model\n",
        "model = Sequential([\n",
        "    Conv2D(32, (3, 3), activation='relu', input_shape=(150, 150, 3)),\n",
        "    MaxPooling2D(2, 2),\n",
        "    Conv2D(64, (3, 3), activation='relu'),\n",
        "    MaxPooling2D(2, 2),\n",
        "    Conv2D(128, (3, 3), activation='relu'),\n",
        "    MaxPooling2D(2, 2),\n",
        "    Flatten(),\n",
        "    Dense(512, activation='relu'),\n",
        "    Dropout(0.5),\n",
        "    Dense(4, activation='softmax')  #  4 classes\n",
        "])\n",
        "\n",
        "# Compile the model\n",
        "model.compile(optimizer='adam', loss='categorical_crossentropy', metrics=['accuracy'])\n",
        "\n",
        "# ImageDataGenerators for training and validation sets\n",
        "train_datagen = ImageDataGenerator(rescale=1./255)\n",
        "validation_datagen = ImageDataGenerator(rescale=1./255)\n",
        "\n",
        "# Setup the generators\n",
        "train_generator = train_datagen.flow_from_directory(\n",
        "    '/content/drive/My Drive/Techcareer_AI_Bootcamp/images/train',\n",
        "    target_size=(150, 150),\n",
        "    batch_size=32,\n",
        "    class_mode='categorical')\n",
        "\n",
        "validation_generator = validation_datagen.flow_from_directory(\n",
        "    '/content/drive/My Drive/Techcareer_AI_Bootcamp/images/validation',\n",
        "    target_size=(150, 150),\n",
        "    batch_size=32,\n",
        "    class_mode='categorical')\n",
        "\n",
        "# Train the model\n",
        "history = model.fit(\n",
        "    train_generator,\n",
        "    epochs=10,\n",
        "    validation_data=validation_generator)\n"
      ],
      "metadata": {
        "colab": {
          "base_uri": "https://localhost:8080/"
        },
        "id": "4OnF672uvCGQ",
        "outputId": "a02ba619-3c8b-41c0-f9c4-1400da755d2f"
      },
      "execution_count": null,
      "outputs": [
        {
          "output_type": "stream",
          "name": "stdout",
          "text": [
            "Found 585 images belonging to 4 classes.\n",
            "Found 148 images belonging to 4 classes.\n",
            "Epoch 1/10\n",
            "19/19 [==============================] - 49s 3s/step - loss: 0.9707 - accuracy: 0.7214 - val_loss: 0.6609 - val_accuracy: 0.8041\n",
            "Epoch 2/10\n",
            "19/19 [==============================] - 45s 2s/step - loss: 0.6438 - accuracy: 0.8085 - val_loss: 0.6133 - val_accuracy: 0.8176\n",
            "Epoch 3/10\n",
            "19/19 [==============================] - 44s 2s/step - loss: 0.5744 - accuracy: 0.8222 - val_loss: 0.6151 - val_accuracy: 0.8243\n",
            "Epoch 4/10\n",
            "19/19 [==============================] - 45s 2s/step - loss: 0.5103 - accuracy: 0.8410 - val_loss: 0.6254 - val_accuracy: 0.8176\n",
            "Epoch 5/10\n",
            "19/19 [==============================] - 44s 2s/step - loss: 0.4061 - accuracy: 0.8821 - val_loss: 0.5998 - val_accuracy: 0.8446\n",
            "Epoch 6/10\n",
            "19/19 [==============================] - 45s 2s/step - loss: 0.3362 - accuracy: 0.8906 - val_loss: 0.6760 - val_accuracy: 0.8446\n",
            "Epoch 7/10\n",
            "19/19 [==============================] - 45s 2s/step - loss: 0.2020 - accuracy: 0.9350 - val_loss: 0.6636 - val_accuracy: 0.8378\n",
            "Epoch 8/10\n",
            "19/19 [==============================] - 44s 2s/step - loss: 0.2456 - accuracy: 0.9231 - val_loss: 0.7368 - val_accuracy: 0.8378\n",
            "Epoch 9/10\n",
            "19/19 [==============================] - 46s 2s/step - loss: 0.1795 - accuracy: 0.9350 - val_loss: 0.7100 - val_accuracy: 0.8311\n",
            "Epoch 10/10\n",
            "19/19 [==============================] - 42s 2s/step - loss: 0.1412 - accuracy: 0.9521 - val_loss: 0.9415 - val_accuracy: 0.8243\n"
          ]
        }
      ]
    },
    {
      "cell_type": "code",
      "source": [
        "# Save the model\n",
        "model.save('/content/drive/My Drive/Techcareer_AI_Bootcamp/model.h5')\n"
      ],
      "metadata": {
        "colab": {
          "base_uri": "https://localhost:8080/"
        },
        "id": "kqn6PW0Lx7H2",
        "outputId": "6e0b32f6-3b49-429f-9b31-4db30b40c2bb"
      },
      "execution_count": null,
      "outputs": [
        {
          "output_type": "stream",
          "name": "stderr",
          "text": [
            "/usr/local/lib/python3.10/dist-packages/keras/src/engine/training.py:3103: UserWarning: You are saving your model as an HDF5 file via `model.save()`. This file format is considered legacy. We recommend using instead the native Keras format, e.g. `model.save('my_model.keras')`.\n",
            "  saving_api.save_model(\n"
          ]
        }
      ]
    },
    {
      "cell_type": "code",
      "source": [
        "from tensorflow.keras.models import load_model\n",
        "from tensorflow.keras.preprocessing import image\n",
        "import numpy as np\n",
        "import matplotlib.pyplot as plt\n",
        "\n",
        "# Mount Google Drive\n",
        "from google.colab import drive\n",
        "drive.mount('/content/drive')\n",
        "\n",
        "# Load the pre-trained model\n",
        "model_path = '/content/drive/My Drive/Techcareer_AI_Bootcamp/model.h5'\n",
        "model = load_model(model_path)\n",
        "\n",
        "# Function to process and predict the image\n",
        "def predict_image(img_path):\n",
        "    # Load and preprocess the image\n",
        "    img = image.load_img(img_path, target_size=(150, 150))\n",
        "    img_array = image.img_to_array(img)\n",
        "    img_array = np.expand_dims(img_array, axis=0) / 255\n",
        "\n",
        "    # Make a prediction\n",
        "    prediction = model.predict(img_array)\n",
        "    predicted_class_index = np.argmax(prediction)\n",
        "    #  class_indices is a dictionary mapping from class indices to labels\n",
        "    class_indices = {0: 'crosswalk', 1: 'speedlimit', 2: 'stop', 3: 'trafficlight'}\n",
        "    predicted_class = class_indices[predicted_class_index]\n",
        "\n",
        "    return predicted_class, prediction[0][predicted_class_index]  # also return the probability\n",
        "\n",
        "# \"API\" loop\n",
        "while True:\n",
        "    # Get image path input\n",
        "    img_path = input(\"Enter the image path (or 'q' to quit): \")\n",
        "\n",
        "    if img_path.lower() == 'q':\n",
        "        print(\"Exiting the API.\")\n",
        "        break\n",
        "\n",
        "    try:\n",
        "        # Predict the class of the image and get the probability\n",
        "        predicted_class, probability = predict_image(img_path)\n",
        "        print(f\"Predicted class for the image is: {predicted_class} with probability {probability:.2f}\")\n",
        "\n",
        "        # Visualization\n",
        "        plt.figure(figsize=(4, 4))\n",
        "        plt.imshow(plt.imread(img_path))\n",
        "        plt.title(f\"Prediction: {predicted_class}\\nProbability: {probability:.2f}\")\n",
        "        plt.axis('off')  # Turn off the axis\n",
        "        plt.show()\n",
        "        plt.pause(0.01)\n",
        "        print(\"\\n\")  # Add a newline to create a space before the next input prompt\n",
        "\n",
        "    except Exception as e:\n",
        "        print(f\"An error occurred: {e}\")\n"
      ],
      "metadata": {
        "id": "vZJYymu02Ox1"
      },
      "execution_count": null,
      "outputs": []
    },
    {
      "cell_type": "code",
      "source": [],
      "metadata": {
        "id": "6JarSK1V3wI1"
      },
      "execution_count": null,
      "outputs": []
    }
  ]
}